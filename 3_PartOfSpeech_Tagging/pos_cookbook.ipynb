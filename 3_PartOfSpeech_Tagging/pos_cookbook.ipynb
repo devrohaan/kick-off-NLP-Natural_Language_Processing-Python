{
 "cells": [
  {
   "cell_type": "markdown",
   "metadata": {},
   "source": [
    "## NLTK"
   ]
  },
  {
   "cell_type": "code",
   "execution_count": 4,
   "metadata": {},
   "outputs": [],
   "source": [
    "import nltk\n",
    "#nltk.download('punkt')\n",
    "import os\n",
    "#nltk.download('universal_tagset')"
   ]
  },
  {
   "cell_type": "code",
   "execution_count": 7,
   "metadata": {},
   "outputs": [
    {
     "name": "stdout",
     "output_type": "stream",
     "text": [
      "Default, PennTreebank tagset Tagset: [('Pack', 'NNP'), ('my', 'PRP$'), ('box', 'NN'), ('with', 'IN'), ('five', 'CD'), ('dozen', 'NN'), ('liquor', 'NN'), ('jugs', 'NNS'), ('.', '.')]\n",
      "\n",
      "Universal Tagset: [('Pack', 'NOUN'), ('my', 'PRON'), ('box', 'NOUN'), ('with', 'ADP'), ('five', 'NUM'), ('dozen', 'NOUN'), ('liquor', 'NOUN'), ('jugs', 'NOUN'), ('.', '.')]\n"
     ]
    }
   ],
   "source": [
    "#nltk.download('averaged_perceptron_tagger')\n",
    "#nltk.download('universal_tagset')\n",
    "text = 'Pack my box with five dozen liquor jugs.'\n",
    "tokens = nltk.word_tokenize(text)\n",
    "\n",
    "print(\"Default, PennTreebank tagset Tagset:\", nltk.pos_tag(tokens))\n",
    "print()\n",
    "print(\"Universal Tagset:\", nltk.pos_tag(tokens, tagset='universal'))"
   ]
  },
  {
   "cell_type": "markdown",
   "metadata": {},
   "source": [
    "### Default NLTK Taggers\n",
    "\n",
    "- DefaultTagger that simply tags everything with the same tag\n",
    "- RegexpTagger that applies tags according to a set of regular expressions\n",
    "- UnigramTagger that picks the most frequent tag for a known word\n",
    "- BigramTagger, TrigramTagger working similarly to the UnigramTagger but also taking some of the context into consideration"
   ]
  },
  {
   "cell_type": "markdown",
   "metadata": {},
   "source": [
    "## TextBlob"
   ]
  },
  {
   "cell_type": "code",
   "execution_count": 2,
   "metadata": {
    "scrolled": true
   },
   "outputs": [
    {
     "data": {
      "text/plain": [
       "[('Pack', 'NNP'),\n",
       " ('my', 'PRP$'),\n",
       " ('box', 'NN'),\n",
       " ('with', 'IN'),\n",
       " ('five', 'CD'),\n",
       " ('dozen', 'NN'),\n",
       " ('liquor', 'NN'),\n",
       " ('jugs', 'NNS')]"
      ]
     },
     "execution_count": 2,
     "metadata": {},
     "output_type": "execute_result"
    }
   ],
   "source": [
    "\n",
    "text = 'Pack my box with five dozen liquor jugs.'\n",
    "from textblob import TextBlob\n",
    "blob = TextBlob(text)\n",
    "blob.parse()\n",
    "blob.tags"
   ]
  },
  {
   "cell_type": "markdown",
   "metadata": {},
   "source": [
    "## spaCy"
   ]
  },
  {
   "cell_type": "code",
   "execution_count": 3,
   "metadata": {},
   "outputs": [
    {
     "name": "stdout",
     "output_type": "stream",
     "text": [
      "Sara PROPN\n",
      "sells VERB\n",
      "seashells NOUN\n",
      "on ADP\n",
      "the DET\n",
      "seashore NOUN\n"
     ]
    }
   ],
   "source": [
    "import spacy\n",
    "\n",
    "nlp=spacy.load('en')\n",
    "sentence=\"Sara sells seashells on the seashore\"\n",
    "for token in nlp(sentence):\n",
    "   print(token,token.pos_)"
   ]
  },
  {
   "cell_type": "markdown",
   "metadata": {},
   "source": [
    "\n",
    "### spaCy can be faster than the NLTK wrapped models or Stanford."
   ]
  },
  {
   "cell_type": "markdown",
   "metadata": {},
   "source": [
    "## Chunking"
   ]
  },
  {
   "cell_type": "code",
   "execution_count": 1,
   "metadata": {},
   "outputs": [],
   "source": [
    "#Define your grammar using regular expressions\n",
    "grammar = ('''\n",
    "    NP: {<DT>?<JJ>*<NN>} # NP\n",
    "    ''')"
   ]
  },
  {
   "cell_type": "code",
   "execution_count": 5,
   "metadata": {},
   "outputs": [
    {
     "data": {
      "text/plain": [
       "[('she', 'PRP'),\n",
       " ('sells', 'VBZ'),\n",
       " ('seashells', 'NNS'),\n",
       " ('on', 'IN'),\n",
       " ('the', 'DT'),\n",
       " ('seashore', 'NN')]"
      ]
     },
     "execution_count": 5,
     "metadata": {},
     "output_type": "execute_result"
    }
   ],
   "source": [
    "\"\"\"When I tell you pick up the left rock, it will be the right one, and then only the right rock will be left.\n",
    "\"\"\"\n",
    "chunkParser  = nltk.RegexpParser(grammar)\n",
    "tagged = nltk.pos_tag(nltk.word_tokenize(\"she sells seashells on the seashore\"))\n",
    "tagged"
   ]
  },
  {
   "cell_type": "code",
   "execution_count": null,
   "metadata": {},
   "outputs": [],
   "source": [
    "tree = chunkParser.parse(tagged)\n",
    "for subtree in tree.subtrees():\n",
    "    print(subtree)"
   ]
  },
  {
   "cell_type": "code",
   "execution_count": null,
   "metadata": {},
   "outputs": [],
   "source": [
    "tree.draw()"
   ]
  },
  {
   "cell_type": "code",
   "execution_count": null,
   "metadata": {},
   "outputs": [],
   "source": []
  }
 ],
 "metadata": {
  "kernelspec": {
   "display_name": "Python 3",
   "language": "python",
   "name": "python3"
  },
  "language_info": {
   "codemirror_mode": {
    "name": "ipython",
    "version": 3
   },
   "file_extension": ".py",
   "mimetype": "text/x-python",
   "name": "python",
   "nbconvert_exporter": "python",
   "pygments_lexer": "ipython3",
   "version": "3.6.5"
  }
 },
 "nbformat": 4,
 "nbformat_minor": 2
}
