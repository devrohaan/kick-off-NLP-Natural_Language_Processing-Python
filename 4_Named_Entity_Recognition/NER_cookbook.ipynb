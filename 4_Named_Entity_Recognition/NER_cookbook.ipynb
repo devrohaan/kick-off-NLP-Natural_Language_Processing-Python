{
 "cells": [
  {
   "cell_type": "code",
   "execution_count": 10,
   "metadata": {},
   "outputs": [
    {
     "name": "stdout",
     "output_type": "stream",
     "text": [
      "[nltk_data] Downloading package words to /home/rohanbagwe/nltk_data...\n",
      "[nltk_data]   Unzipping corpora/words.zip.\n"
     ]
    },
    {
     "data": {
      "text/plain": [
       "True"
      ]
     },
     "execution_count": 10,
     "metadata": {},
     "output_type": "execute_result"
    }
   ],
   "source": [
    "import nltk\n",
    "#nltk.download('maxent_ne_chunker')\n",
    "#nltk.download('words')"
   ]
  },
  {
   "cell_type": "code",
   "execution_count": 11,
   "metadata": {},
   "outputs": [],
   "source": [
    "sentence=\"Sara sells seashells on the seashore\""
   ]
  },
  {
   "cell_type": "code",
   "execution_count": 12,
   "metadata": {},
   "outputs": [
    {
     "name": "stdout",
     "output_type": "stream",
     "text": [
      "[('S', 'VB'), ('a', 'DT'), ('r', 'NN'), ('a', 'DT'), (' ', 'JJ'), ('s', 'NN'), ('e', 'NN'), ('l', 'NN'), ('l', 'NN'), ('s', 'NN'), (' ', 'NNP'), ('s', 'VBZ'), ('e', 'VB'), ('a', 'DT'), ('s', 'NN'), ('h', 'NN'), ('e', 'NN'), ('l', 'NN'), ('l', 'NN'), ('s', 'NN'), (' ', 'NNP'), ('o', 'VBZ'), ('n', 'JJ'), (' ', 'NNP'), ('t', 'NN'), ('h', 'NN'), ('e', 'NN'), (' ', 'NNP'), ('s', 'VBZ'), ('e', 'VB'), ('a', 'DT'), ('s', 'NN'), ('h', 'NN'), ('o', 'JJ'), ('r', 'NN'), ('e', 'NN')]\n"
     ]
    }
   ],
   "source": [
    "tokenized = nltk.word_tokenize(sentence)\n",
    "tagged = nltk.pos_tag(sentence)\n",
    "print(tagged)\n",
    "\n",
    "namedEnt = nltk.ne_chunk(tagged)\n",
    "namedEnt.draw()\n"
   ]
  },
  {
   "cell_type": "code",
   "execution_count": null,
   "metadata": {},
   "outputs": [],
   "source": []
  }
 ],
 "metadata": {
  "kernelspec": {
   "display_name": "Python 3",
   "language": "python",
   "name": "python3"
  },
  "language_info": {
   "codemirror_mode": {
    "name": "ipython",
    "version": 3
   },
   "file_extension": ".py",
   "mimetype": "text/x-python",
   "name": "python",
   "nbconvert_exporter": "python",
   "pygments_lexer": "ipython3",
   "version": "3.6.5"
  }
 },
 "nbformat": 4,
 "nbformat_minor": 2
}
