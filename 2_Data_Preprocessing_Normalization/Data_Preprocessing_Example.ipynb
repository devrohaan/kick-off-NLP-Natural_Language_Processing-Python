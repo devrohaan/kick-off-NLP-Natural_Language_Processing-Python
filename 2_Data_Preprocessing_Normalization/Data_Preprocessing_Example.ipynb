{
 "cells": [
  {
   "cell_type": "markdown",
   "metadata": {},
   "source": [
    "Import supporting library"
   ]
  },
  {
   "cell_type": "code",
   "execution_count": 28,
   "metadata": {},
   "outputs": [
    {
     "name": "stdout",
     "output_type": "stream",
     "text": [
      "[nltk_data] Downloading package wordnet to /Users/Rohan/nltk_data...\n",
      "[nltk_data]   Package wordnet is already up-to-date!\n"
     ]
    }
   ],
   "source": [
    "import pickle\n",
    "import sys\n",
    "from nltk import word_tokenize, sent_tokenize\n",
    "import pickle\n",
    "import sys\n",
    "from stop_words import get_stop_words\n",
    "import nltk\n",
    "nltk.download('wordnet')\n",
    "from nltk.stem import WordNetLemmatizer \n",
    "from nltk.stem import PorterStemmer \n"
   ]
  },
  {
   "cell_type": "markdown",
   "metadata": {},
   "source": [
    "### Importing Dataset: We have learned how to scrap data on web using selenium in previous write-up."
   ]
  },
  {
   "cell_type": "code",
   "execution_count": 3,
   "metadata": {},
   "outputs": [
    {
     "name": "stdout",
     "output_type": "stream",
     "text": [
      "Akbar loved hunting and used to escape to go for hunting even from his studies. Well, later he became a better rider and hunter than any one of his courtiers. One day when Akbar went for hunting, he and his some of the courtiers went so fast that they left the others behind. As the evening fell, everybody got very hungry and thirsty, they found that they had lost their way and now did not know where to go.At last they came to a junction of three roads. King was very happy to see the roads that now he could go reach his capital through one of these roads, but which road was to go to his capital - Agra. They were all thinking about it and could not decide it. In the mean time they saw a young boy coming along one road. The boy was summoned and Akbar asked him, \"Hey young boy! Which road goes to Agra?\" The boy smiled and spoke, \"Huzoor, everybody knows that road cannot move so how these roads can go to Agra or anywhere else?\" and laughed at his own joke.Everybody was silent, didn't say a word. The boy said again, \"People travel, not the roads. Do they?\" Emperor laughed at this and said, \"No, you are right.\" The Emperor asked again, \"What is your name, young boy?\" \"Mahesh Das\" The boy replied and asked the Emperor, \"And who are you Huzoor? What is your name?\" The Emperor took out his Ring and gave it to the boy. \"You are talking to Emperor Akbar - the King of Hindustaan (India). We need fearless people like you. You come to the court, with this Ring I will recognize you immediately. Now tell me the way to get to Agra. We have to reach there soon?\"Mahesh Das bowing lowly pointed towards the road going to Agra, and the King headed on that road. That is how the Emperor Akbar met the future Birbal.\n"
     ]
    }
   ],
   "source": [
    "dataset = list()\n",
    "with open('/Users/Rohan/Desktop/3rdAug/NLP/data/Story.pkl', 'rb') as handle:\n",
    "    dataset = pickle.load(handle)\n",
    "    print(dataset[0])\n",
    "    # Eg. Akbar Birbal story from dataset."
   ]
  },
  {
   "cell_type": "markdown",
   "metadata": {},
   "source": [
    "# Data Preprocessing: Cleaning\n",
    "\n",
    "## 1. Tokenization"
   ]
  },
  {
   "cell_type": "code",
   "execution_count": 4,
   "metadata": {},
   "outputs": [],
   "source": [
    "def tokenizeOnWhiteSpace(dataset):\n",
    "    \n",
    "    new_dataset = list()\n",
    "    for story in dataset:\n",
    "        \n",
    "        new_dataset.append(story.split())\n",
    "        \n",
    "    return new_dataset\n"
   ]
  },
  {
   "cell_type": "code",
   "execution_count": 5,
   "metadata": {},
   "outputs": [
    {
     "name": "stdout",
     "output_type": "stream",
     "text": [
      "['Akbar', 'loved', 'hunting', 'and', 'used', 'to', 'escape', 'to', 'go', 'for', 'hunting', 'even', 'from', 'his', 'studies.', 'Well,', 'later', 'he', 'became', 'a', 'better', 'rider', 'and', 'hunter', 'than', 'any', 'one', 'of', 'his', 'courtiers.', 'One', 'day', 'when', 'Akbar', 'went', 'for', 'hunting,', 'he', 'and', 'his', 'some', 'of', 'the', 'courtiers', 'went', 'so', 'fast', 'that', 'they', 'left', 'the', 'others', 'behind.', 'As', 'the', 'evening', 'fell,', 'everybody', 'got', 'very', 'hungry', 'and', 'thirsty,', 'they', 'found', 'that', 'they', 'had', 'lost', 'their', 'way', 'and', 'now', 'did', 'not', 'know', 'where', 'to', 'go.At', 'last', 'they', 'came', 'to', 'a', 'junction', 'of', 'three', 'roads.', 'King', 'was', 'very', 'happy', 'to', 'see', 'the', 'roads', 'that', 'now', 'he', 'could', 'go', 'reach', 'his', 'capital', 'through', 'one', 'of', 'these', 'roads,', 'but', 'which', 'road', 'was', 'to', 'go', 'to', 'his', 'capital', '-', 'Agra.', 'They', 'were', 'all', 'thinking', 'about', 'it', 'and', 'could', 'not', 'decide', 'it.', 'In', 'the', 'mean', 'time', 'they', 'saw', 'a', 'young', 'boy', 'coming', 'along', 'one', 'road.', 'The', 'boy', 'was', 'summoned', 'and', 'Akbar', 'asked', 'him,', '\"Hey', 'young', 'boy!', 'Which', 'road', 'goes', 'to', 'Agra?\"', 'The', 'boy', 'smiled', 'and', 'spoke,', '\"Huzoor,', 'everybody', 'knows', 'that', 'road', 'cannot', 'move', 'so', 'how', 'these', 'roads', 'can', 'go', 'to', 'Agra', 'or', 'anywhere', 'else?\"', 'and', 'laughed', 'at', 'his', 'own', 'joke.Everybody', 'was', 'silent,', \"didn't\", 'say', 'a', 'word.', 'The', 'boy', 'said', 'again,', '\"People', 'travel,', 'not', 'the', 'roads.', 'Do', 'they?\"', 'Emperor', 'laughed', 'at', 'this', 'and', 'said,', '\"No,', 'you', 'are', 'right.\"', 'The', 'Emperor', 'asked', 'again,', '\"What', 'is', 'your', 'name,', 'young', 'boy?\"', '\"Mahesh', 'Das\"', 'The', 'boy', 'replied', 'and', 'asked', 'the', 'Emperor,', '\"And', 'who', 'are', 'you', 'Huzoor?', 'What', 'is', 'your', 'name?\"', 'The', 'Emperor', 'took', 'out', 'his', 'Ring', 'and', 'gave', 'it', 'to', 'the', 'boy.', '\"You', 'are', 'talking', 'to', 'Emperor', 'Akbar', '-', 'the', 'King', 'of', 'Hindustaan', '(India).', 'We', 'need', 'fearless', 'people', 'like', 'you.', 'You', 'come', 'to', 'the', 'court,', 'with', 'this', 'Ring', 'I', 'will', 'recognize', 'you', 'immediately.', 'Now', 'tell', 'me', 'the', 'way', 'to', 'get', 'to', 'Agra.', 'We', 'have', 'to', 'reach', 'there', 'soon?\"Mahesh', 'Das', 'bowing', 'lowly', 'pointed', 'towards', 'the', 'road', 'going', 'to', 'Agra,', 'and', 'the', 'King', 'headed', 'on', 'that', 'road.', 'That', 'is', 'how', 'the', 'Emperor', 'Akbar', 'met', 'the', 'future', 'Birbal.']\n"
     ]
    }
   ],
   "source": [
    "data = tokenizeOnWhiteSpace(dataset)\n",
    "print(data[0])"
   ]
  },
  {
   "cell_type": "code",
   "execution_count": 6,
   "metadata": {},
   "outputs": [],
   "source": [
    "def tokenizeNLTKWord(dataset):\n",
    "    \n",
    "    new_dataset = list()\n",
    "    for story in dataset:\n",
    "        \n",
    "        new_dataset.append(word_tokenize(story))\n",
    "        \n",
    "    return new_dataset"
   ]
  },
  {
   "cell_type": "code",
   "execution_count": 7,
   "metadata": {},
   "outputs": [
    {
     "name": "stdout",
     "output_type": "stream",
     "text": [
      "['Akbar', 'loved', 'hunting', 'and', 'used', 'to', 'escape', 'to', 'go', 'for', 'hunting', 'even', 'from', 'his', 'studies', '.', 'Well', ',', 'later', 'he']\n"
     ]
    }
   ],
   "source": [
    "data = tokenizeNLTKWord(dataset)\n",
    "print(data[0][:20])"
   ]
  },
  {
   "cell_type": "code",
   "execution_count": 8,
   "metadata": {},
   "outputs": [],
   "source": [
    "def tokenizeNLTKSentence(dataset):\n",
    "    \n",
    "    new_dataset = list()\n",
    "    for story in dataset:\n",
    "        \n",
    "        new_dataset.append(sent_tokenize(story))\n",
    "        \n",
    "    return new_dataset\n"
   ]
  },
  {
   "cell_type": "code",
   "execution_count": 9,
   "metadata": {},
   "outputs": [
    {
     "name": "stdout",
     "output_type": "stream",
     "text": [
      "['Akbar loved hunting and used to escape to go for hunting even from his studies.', 'Well, later he became a better rider and hunter than any one of his courtiers.', 'One day when Akbar went for hunting, he and his some of the courtiers went so fast that they left the others behind.', 'As the evening fell, everybody got very hungry and thirsty, they found that they had lost their way and now did not know where to go.At last they came to a junction of three roads.', 'King was very happy to see the roads that now he could go reach his capital through one of these roads, but which road was to go to his capital - Agra.', 'They were all thinking about it and could not decide it.', 'In the mean time they saw a young boy coming along one road.', 'The boy was summoned and Akbar asked him, \"Hey young boy!', 'Which road goes to Agra?\"', 'The boy smiled and spoke, \"Huzoor, everybody knows that road cannot move so how these roads can go to Agra or anywhere else?\"', \"and laughed at his own joke.Everybody was silent, didn't say a word.\", 'The boy said again, \"People travel, not the roads.', 'Do they?\"', 'Emperor laughed at this and said, \"No, you are right.\"', 'The Emperor asked again, \"What is your name, young boy?\"', '\"Mahesh Das\" The boy replied and asked the Emperor, \"And who are you Huzoor?', 'What is your name?\"', 'The Emperor took out his Ring and gave it to the boy.', '\"You are talking to Emperor Akbar - the King of Hindustaan (India).', 'We need fearless people like you.', 'You come to the court, with this Ring I will recognize you immediately.', 'Now tell me the way to get to Agra.', 'We have to reach there soon?', '\"Mahesh Das bowing lowly pointed towards the road going to Agra, and the King headed on that road.', 'That is how the Emperor Akbar met the future Birbal.']\n"
     ]
    }
   ],
   "source": [
    "data = tokenizeNLTKSentence(dataset)\n",
    "print(data[0])"
   ]
  },
  {
   "cell_type": "markdown",
   "metadata": {},
   "source": [
    "## 2. Stopword Removal"
   ]
  },
  {
   "cell_type": "code",
   "execution_count": 23,
   "metadata": {},
   "outputs": [],
   "source": [
    "\n",
    "\n",
    "stop_words =['i','me','my','myself','we','our','ours','ourselves','you','your','yours','yourself',\n",
    "            'yourselves','he','him','his','himself','she','her','hers','herself','it','its','itself',\n",
    "            'they','them','their','theirs','themselves','what','which','who','whom','this','that',\n",
    "            'these','those','am','is','are','was','were','be','been','being','have','has','had',\n",
    "            'having','do','does','did','doing','a','an','the','and','but','if','or','because','as',\n",
    "            'until','while','of','at','by','for','with','about','against','between','into','through',\n",
    "            'during','before','after','above','below','to','from','up','down','in','out','on','off',\n",
    "            'over','under','again','further','then','once','here','there','when','where','why','how',\n",
    "            'all','any','both','each','few','more','most','other','some','such','no','nor','not',\n",
    "            'only','own','same','so','than','too','very','s','t','can','will','just','don','should',\n",
    "            'now','uses','use','using','used','one','also']\n",
    "\n",
    "\n",
    "stop_words_set = set(stop_words)\n",
    "\n",
    "\n",
    "def removeNoiseSWR2(dataset): #Winner Function\n",
    "    \n",
    "    words = tokenizeNLTKWord(dataset)\n",
    "    stop_words_set = set(stop_words)\n",
    "    #stop_words_set.update(['.', ',', '\"', '-', \"'\", '?', '!', ':', ';', '(', ')', '[', ']', '{', '}']) # better do regex to cleanup.\n",
    "    \n",
    "    list_of_words = []\n",
    "    for wordlist in words:\n",
    "        list_of_words.append(list(set(wordlist) - set(stop_words_set)))\n",
    "\n",
    "    return list_of_words"
   ]
  },
  {
   "cell_type": "code",
   "execution_count": 27,
   "metadata": {},
   "outputs": [
    {
     "name": "stdout",
     "output_type": "stream",
     "text": [
      "174\n"
     ]
    }
   ],
   "source": [
    "# OR\n",
    "pypi_stopwords = get_stop_words('en')\n",
    "print(len(pypi_stopwords)) "
   ]
  },
  {
   "cell_type": "code",
   "execution_count": 24,
   "metadata": {},
   "outputs": [
    {
     "name": "stdout",
     "output_type": "stream",
     "text": [
      "['go.At', 'come', 'goes', 'gave', 'In', 'three', 'travel', 'knows', 'reach', 'Ring', 'India', 'road', 'Emperor', 'Huzoor', 'headed', 'coming', 'asked', 'future', 'found', 'spoke', 'Well', 'fell', 'fast', 'Das', 'silent', 'others', 'pointed', 'recognize', 'lowly', 'junction', 'say', 'We', 'happy', 'get', 'thinking', 'thirsty', 'roads', 'loved', 'everybody', 'smiled', 'see', 'later', 'along', 'Hindustaan', 'Birbal', 'tell', 'could', 'hunting', 'People', 'lost', 'mean', 'last', 'immediately', 'know', 'I', 'Hey', 'hunter', 'That', 'Which', 'else', 'went', 'like', 'King', 'saw', 'anywhere', 'court', 'soon', 'replied', 'go', 'going', 'left', 'And', 'One', 'studies', '``', 'time', 'decide', 'took', 'word', 'young', 'What', \"n't\", 'boy', 'Do', 'bowing', 'You', 'right', 'As', 'came', 'Mahesh', 'Now', 'Agra', 'evening', 'got', 'talking', 'laughed', 'The', 'joke.Everybody', 'towards', 'better', 'day', 'hungry', 'escape', 'said', \"''\", 'behind', 'Akbar', 'courtiers', 'capital', 'people', 'became', 'rider', 'They', 'way', 'move', 'fearless', 'No', 'need', 'met', 'summoned', 'even', 'name']\n"
     ]
    }
   ],
   "source": [
    "data = removeNoiseSWR2(dataset)\n",
    "print(data[0])"
   ]
  },
  {
   "cell_type": "markdown",
   "metadata": {},
   "source": [
    "## 3. Remove Punctuations"
   ]
  },
  {
   "cell_type": "code",
   "execution_count": 22,
   "metadata": {},
   "outputs": [],
   "source": [
    "def removePunctuation(words):\n",
    "   \n",
    "    \n",
    "    list_of_words = []\n",
    "    for wordlist in words:\n",
    "        wordlist = re.sub(r'[^\\w\\s]', '', wordlist)\n",
    "        list_of_words.append(wordlist)\n",
    "    \n",
    "    return list_of_words"
   ]
  },
  {
   "cell_type": "code",
   "execution_count": null,
   "metadata": {},
   "outputs": [],
   "source": [
    "import string\n",
    "def removePunctuation4(text):\n",
    "    \n",
    "    table = str.maketrans({key: None for key in string.punctuation})\n",
    "    text = text.translate(table)\n",
    "    return text\n"
   ]
  },
  {
   "cell_type": "markdown",
   "metadata": {},
   "source": [
    "## 4. Stemming and Lemmatization\n"
   ]
  },
  {
   "cell_type": "code",
   "execution_count": 32,
   "metadata": {},
   "outputs": [
    {
     "name": "stdout",
     "output_type": "stream",
     "text": [
      "[nltk_data] Downloading package wordnet to /Users/Rohan/nltk_data...\n",
      "[nltk_data]   Package wordnet is already up-to-date!\n",
      "Lemmatizer:  Multiplying\n",
      "Stemming:  multipli\n",
      "Lemmatizer:  Increasing\n",
      "Stemming:  increas\n"
     ]
    }
   ],
   "source": [
    "\"\"\"\n",
    "from nltk.stem import WordNetLemmatizer\n",
    "from nltk.stem import PorterStemmer\n",
    "from nltk.stem import SnowballStemmer\n",
    "from nltk.stem.lancaster import LancasterStemmer\n",
    "\"\"\"\n",
    "stemmer = PorterStemmer() \n",
    "lemmatizer = WordNetLemmatizer() \n",
    "\n",
    "word = \"Multiplying\" \n",
    "print(\"Lemmatizer: \", lemmatizer.lemmatize(word, \"v\"))\n",
    "\n",
    "print(\"Stemming: \",stemmer.stem(word))\n",
    "word = \"Increasing\" \n",
    "print(\"Lemmatizer: \", lemmatizer.lemmatize(word, \"v\"))\n",
    "\n",
    "print(\"Stemming: \",stemmer.stem(word))\n"
   ]
  },
  {
   "cell_type": "markdown",
   "metadata": {},
   "source": [
    "#### Stemming works on words without knowing their context, which is why it has lower accuracy and is faster than lemmatization."
   ]
  },
  {
   "cell_type": "markdown",
   "metadata": {},
   "source": [
    "#### WordNet is a database package built for natural language processing. It includes groups of synonyms and a brief definition."
   ]
  },
  {
   "cell_type": "code",
   "execution_count": 2,
   "metadata": {},
   "outputs": [
    {
     "name": "stdout",
     "output_type": "stream",
     "text": [
      "a characteristic state or mode of living\n",
      "['social life', 'city life', 'real life']\n"
     ]
    }
   ],
   "source": [
    "from nltk.corpus import wordnet\n",
    "syn = wordnet.synsets(\"life\")\n",
    "print(syn[0].definition())\n",
    "print(syn[0].examples())"
   ]
  },
  {
   "cell_type": "markdown",
   "metadata": {},
   "source": [
    "But, Vocabulary wins!!"
   ]
  },
  {
   "cell_type": "code",
   "execution_count": 11,
   "metadata": {},
   "outputs": [
    {
     "data": {
      "text/plain": [
       "{0: 'the period during which something is functional (as between birth and death); &quot;the battery had a short life&quot;; &quot;he lived a long and happy life&quot;',\n",
       " 1: 'life sentence',\n",
       " 2: 'A biography.',\n",
       " 3: 'life (one’s daily existence)',\n",
       " 4: 'living things collectively; &quot;the oceans are teeming with life&quot;',\n",
       " 5: '(philosophy) The essence of the manifestation and the foundation of the being.',\n",
       " 6: 'The world in general; existence.',\n",
       " 7: 'the condition of living or the state of being alive; &quot;while there&#39;s life there&#39;s hope&quot;; &quot;life depends on many chemical and physical processes&quot;',\n",
       " 8: '(phenomenology) the subjective and inner manifestation of the individual.',\n",
       " 9: 'The period during which one (a person, an animal, a plant, a star) is alive.',\n",
       " 10: '(a) command',\n",
       " 11: 'the essence of the manifestation and the foundation of the being',\n",
       " 12: 'The state that follows birth, and precedes death; the state of being alive and living.',\n",
       " 13: '(colloquial) A life sentence; a term of imprisonment of a convict until his or her death.',\n",
       " 14: 'The most worthwhile component or participant',\n",
       " 15: '<i>A period of time.</i>',\n",
       " 16: 'and death',\n",
       " 17: 'The essence of the manifestation and the foundation of the being.',\n",
       " 18: 'The state of being.',\n",
       " 19: 'the experience of being alive; the course of human events and activities; &quot;he could no longer cope with the complexities of life&quot;',\n",
       " 20: 'the period from the present until death; &quot;he appointed himself emperor for life&quot;',\n",
       " 21: 'duration',\n",
       " 22: 'animation and energy in action or expression; &quot;it was a heavy play and the actors tried in vain to give life to it&quot;',\n",
       " 23: 'One of the player&#39;s chances to play, lost when a mistake is made.',\n",
       " 24: 'A state of living characterized by capacity for metabolism, growth, reaction to stimuli, and reproduction.',\n",
       " 25: '<i>Personal existence.</i>',\n",
       " 26: 'The sequence of physical and mental experiences that make up the existence of an individual.',\n",
       " 27: 'a characteristic state or mode of living; &quot;social life&quot;; &quot;city life&quot;; &quot;real life&quot;',\n",
       " 28: '(human) life (i.e. conception to death)',\n",
       " 29: 'The world in general, existence',\n",
       " 30: 'A term of imprisonment of a convict until his or her death.',\n",
       " 31: 'The quality that distinguishes a vital and functional plant or animal from a dead body.',\n",
       " 32: 'The subjective and inner manifestation of the individual.',\n",
       " 33: 'the essence of God',\n",
       " 34: 'a motive for living; &quot;pottery was his life&quot;',\n",
       " 35: 'A worthwhile existence.',\n",
       " 36: '(video games) One of the player&#39;s chances to play, lost when a mistake is made.',\n",
       " 37: 'the organic phenomenon that distinguishes living organisms from nonliving ones; &quot;there is no life on the moon&quot;',\n",
       " 38: 'A status given to any entity including animals, plants, fungi, bacteria, etc. — and sometimes viruses — having the properties of replication and metabolism.',\n",
       " 39: 'a living person; &quot;his heroism saved a life&quot;',\n",
       " 40: '(mortal) life',\n",
       " 41: 'a status given to an entity with the properties of replication and metabolism',\n",
       " 42: 'The period of time during which an object is recognizable.',\n",
       " 43: 'the course of existence of an individual; the actions and events that occur in living; &quot;he hoped for a new life in Australia&quot;; &quot;he wanted to live his own life without interference from others&quot;; &quot;get a life!&quot; &quot;he is trying to rebuild his life&quot;',\n",
       " 44: 'an account of the series of events making up a person&#39;s life',\n",
       " 45: 'A worthwhile existence',\n",
       " 46: 'Something which is inherently part of a person&#39;s existence, such as job, family, a loved one, etc.',\n",
       " 47: 'The period during which an entity (a person, an animal, a plant, a star) is alive.',\n",
       " 48: 'The span of time during which an object operates.',\n",
       " 49: 'a prison term lasting as long as the prisoner lives; &quot;he got life for killing the guard&quot;',\n",
       " 50: '(usually of a person) The most worthwhile component or participant',\n",
       " 51: 'the period between birth and the present time; &quot;I have known him all his life&quot;',\n",
       " 52: '(biology) A status given to any entity including animals, plants, fungi, bacteria, etc. — and sometimes viruses — having the properties of replication and metabolism.',\n",
       " 53: '(human) life',\n",
       " 54: 'the subjective and inner manifestation of the individual',\n",
       " 55: 'something inherently part of a person&#39;s existence',\n",
       " 56: 'The state between birth and death'}"
      ]
     },
     "execution_count": 11,
     "metadata": {},
     "output_type": "execute_result"
    }
   ],
   "source": [
    "from vocabulary.vocabulary import Vocabulary as vb\n",
    "vb.meaning(\"life\", format=\"dict\")"
   ]
  },
  {
   "cell_type": "markdown",
   "metadata": {},
   "source": [
    "#### Docs: \n",
    "https://pypi.org/project/Vocabulary/#documentation\n",
    "\n",
    "https://vocabulary.readthedocs.io/en/latest/usage.html"
   ]
  },
  {
   "cell_type": "markdown",
   "metadata": {},
   "source": [
    "## In a nutshell,\n"
   ]
  },
  {
   "cell_type": "code",
   "execution_count": 13,
   "metadata": {},
   "outputs": [],
   "source": [
    "def normalizeDataset(dataset):\n",
    "    \n",
    "    cleaned_data = list()\n",
    "    for story in dataset:\n",
    "        cleaned_data.append(removePunctuation4(story))\n",
    "    \n",
    "    print(cleaned_data[0])\n",
    "    cleaned_data = tokenizeNLTKWord(cleaned_data)\n",
    "    cleaned_data = removeNoiseSWR2(cleaned_data)\n",
    "    \n",
    "    return cleaned_data"
   ]
  },
  {
   "cell_type": "code",
   "execution_count": null,
   "metadata": {},
   "outputs": [],
   "source": []
  }
 ],
 "metadata": {
  "kernelspec": {
   "display_name": "Python 3",
   "language": "python",
   "name": "python3"
  },
  "language_info": {
   "codemirror_mode": {
    "name": "ipython",
    "version": 3
   },
   "file_extension": ".py",
   "mimetype": "text/x-python",
   "name": "python",
   "nbconvert_exporter": "python",
   "pygments_lexer": "ipython3",
   "version": "3.5.4"
  }
 },
 "nbformat": 4,
 "nbformat_minor": 2
}
