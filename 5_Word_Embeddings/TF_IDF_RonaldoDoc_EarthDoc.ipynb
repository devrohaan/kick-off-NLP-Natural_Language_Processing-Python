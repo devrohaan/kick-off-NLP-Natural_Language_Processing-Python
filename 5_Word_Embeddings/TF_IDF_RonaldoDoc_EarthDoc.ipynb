{
 "cells": [
  {
   "cell_type": "code",
   "execution_count": 35,
   "metadata": {},
   "outputs": [],
   "source": [
    "\n",
    "doc1 = \"\"\"\n",
    "Ronaldo was born in Portugal. He started playing soccer at a very young age. \n",
    "Ronaldo was born in Fundal. \n",
    "His full name is Cristiano Ronaldo Dos Santos Aveiro.\n",
    "The name Ronaldo in Cristiano Ronaldo was taken from the name of former Hollywood actor.\n",
    "\"\"\"\n",
    "\n",
    "doc2 = \"\"\"\n",
    "The Earth was formed about 4.7 billion years ago. \n",
    "The Earth shape is very close to that of a sphere. \n",
    "The Earth equatorial diameter is about 12,756 km. \n",
    "The Earth rotates on its axis.\n",
    "\"\"\"        "
   ]
  },
  {
   "cell_type": "code",
   "execution_count": 36,
   "metadata": {},
   "outputs": [
    {
     "name": "stdout",
     "output_type": "stream",
     "text": [
      "{'The', 'of', 'to', '12,756', 'His', 'ago.', 'billion', 'taken', 'about', 'soccer', 'He', 'very', 'km.', 'name', 'close', 'Hollywood', '4.7', 'actor.', 'age.', 'sphere.', 'Earth', 'started', 'former', 'from', 'young', 'the', 'on', 'Aveiro.', 'born', 'at', 'Portugal.', 'Fundal.', 'Ronaldo', 'axis.', 'Santos', 'in', 'a', 'rotates', 'years', 'Dos', 'was', 'full', 'its', 'formed', 'shape', 'equatorial', 'Cristiano', 'playing', 'is', 'diameter', 'that'}\n"
     ]
    }
   ],
   "source": [
    "words = set(doc1.split()).union(set(doc2.split()))\n",
    "print(words)"
   ]
  },
  {
   "cell_type": "code",
   "execution_count": 37,
   "metadata": {},
   "outputs": [
    {
     "name": "stdout",
     "output_type": "stream",
     "text": [
      "Counter({'Ronaldo': 5, 'Cristiano': 4, 'in': 3, 'name': 3, 'was': 3, 'born': 2, 'young': 1, 'The': 1, 'former': 1, 'Aveiro.': 1, 'the': 1, 'Portugal.': 1, 'Fundal.': 1, 'His': 1, 'Dos': 1, 'of': 1, 'taken': 1, 'Santos': 1, 'soccer': 1, 'He': 1, 'very': 1, 'a': 1, 'at': 1, 'full': 1, 'Hollywood': 1, 'actor.': 1, 'age.': 1, 'started': 1, 'playing': 1, 'is': 1, 'from': 1})\n"
     ]
    }
   ],
   "source": [
    "from collections import Counter\n",
    "wordsDictDoc1 = Counter(doc1.split())\n",
    "print(wordsDictDoc1)"
   ]
  },
  {
   "cell_type": "code",
   "execution_count": 38,
   "metadata": {},
   "outputs": [
    {
     "name": "stdout",
     "output_type": "stream",
     "text": [
      "Counter({'The': 4, 'Earth': 4, 'about': 2, 'is': 2, '12,756': 1, 'to': 1, 'rotates': 1, 'of': 1, 'ago.': 1, 'axis.': 1, 'billion': 1, 'a': 1, 'very': 1, 'years': 1, 'close': 1, 'was': 1, 'its': 1, 'formed': 1, '4.7': 1, 'equatorial': 1, 'shape': 1, 'sphere.': 1, 'km.': 1, 'diameter': 1, 'on': 1, 'that': 1})\n"
     ]
    }
   ],
   "source": [
    "from collections import Counter\n",
    "wordsDictDoc2 = Counter(doc2.split())\n",
    "print(wordsDictDoc2)"
   ]
  },
  {
   "cell_type": "code",
   "execution_count": 39,
   "metadata": {},
   "outputs": [
    {
     "data": {
      "text/html": [
       "<div>\n",
       "<style scoped>\n",
       "    .dataframe tbody tr th:only-of-type {\n",
       "        vertical-align: middle;\n",
       "    }\n",
       "\n",
       "    .dataframe tbody tr th {\n",
       "        vertical-align: top;\n",
       "    }\n",
       "\n",
       "    .dataframe thead th {\n",
       "        text-align: right;\n",
       "    }\n",
       "</style>\n",
       "<table border=\"1\" class=\"dataframe\">\n",
       "  <thead>\n",
       "    <tr style=\"text-align: right;\">\n",
       "      <th></th>\n",
       "      <th>12,756</th>\n",
       "      <th>4.7</th>\n",
       "      <th>Aveiro.</th>\n",
       "      <th>Cristiano</th>\n",
       "      <th>Dos</th>\n",
       "      <th>Earth</th>\n",
       "      <th>Fundal.</th>\n",
       "      <th>He</th>\n",
       "      <th>His</th>\n",
       "      <th>Hollywood</th>\n",
       "      <th>...</th>\n",
       "      <th>sphere.</th>\n",
       "      <th>started</th>\n",
       "      <th>taken</th>\n",
       "      <th>that</th>\n",
       "      <th>the</th>\n",
       "      <th>to</th>\n",
       "      <th>very</th>\n",
       "      <th>was</th>\n",
       "      <th>years</th>\n",
       "      <th>young</th>\n",
       "    </tr>\n",
       "  </thead>\n",
       "  <tbody>\n",
       "    <tr>\n",
       "      <th>0</th>\n",
       "      <td>0.0</td>\n",
       "      <td>0.0</td>\n",
       "      <td>1.0</td>\n",
       "      <td>4.0</td>\n",
       "      <td>1.0</td>\n",
       "      <td>0.0</td>\n",
       "      <td>1.0</td>\n",
       "      <td>1.0</td>\n",
       "      <td>1.0</td>\n",
       "      <td>1.0</td>\n",
       "      <td>...</td>\n",
       "      <td>0.0</td>\n",
       "      <td>1.0</td>\n",
       "      <td>1.0</td>\n",
       "      <td>0.0</td>\n",
       "      <td>1.0</td>\n",
       "      <td>0.0</td>\n",
       "      <td>1</td>\n",
       "      <td>3</td>\n",
       "      <td>0.0</td>\n",
       "      <td>1.0</td>\n",
       "    </tr>\n",
       "    <tr>\n",
       "      <th>1</th>\n",
       "      <td>1.0</td>\n",
       "      <td>1.0</td>\n",
       "      <td>0.0</td>\n",
       "      <td>0.0</td>\n",
       "      <td>0.0</td>\n",
       "      <td>4.0</td>\n",
       "      <td>0.0</td>\n",
       "      <td>0.0</td>\n",
       "      <td>0.0</td>\n",
       "      <td>0.0</td>\n",
       "      <td>...</td>\n",
       "      <td>1.0</td>\n",
       "      <td>0.0</td>\n",
       "      <td>0.0</td>\n",
       "      <td>1.0</td>\n",
       "      <td>0.0</td>\n",
       "      <td>1.0</td>\n",
       "      <td>1</td>\n",
       "      <td>1</td>\n",
       "      <td>1.0</td>\n",
       "      <td>0.0</td>\n",
       "    </tr>\n",
       "  </tbody>\n",
       "</table>\n",
       "<p>2 rows × 51 columns</p>\n",
       "</div>"
      ],
      "text/plain": [
       "   12,756  4.7  Aveiro.  Cristiano  Dos  Earth  Fundal.   He  His  Hollywood  \\\n",
       "0     0.0  0.0      1.0        4.0  1.0    0.0      1.0  1.0  1.0        1.0   \n",
       "1     1.0  1.0      0.0        0.0  0.0    4.0      0.0  0.0  0.0        0.0   \n",
       "\n",
       "   ...    sphere.  started  taken  that  the   to  very  was  years  young  \n",
       "0  ...        0.0      1.0    1.0   0.0  1.0  0.0     1    3    0.0    1.0  \n",
       "1  ...        1.0      0.0    0.0   1.0  0.0  1.0     1    1    1.0    0.0  \n",
       "\n",
       "[2 rows x 51 columns]"
      ]
     },
     "execution_count": 39,
     "metadata": {},
     "output_type": "execute_result"
    }
   ],
   "source": [
    "import pandas as pd\n",
    "pd.DataFrame([wordsDictDoc1, wordsDictDoc2]).fillna(0)"
   ]
  },
  {
   "cell_type": "code",
   "execution_count": 40,
   "metadata": {},
   "outputs": [],
   "source": [
    "def  tf (wordDict, listofwords):\n",
    "    tfDict = {}\n",
    "    wordscount = len(listofwords)\n",
    "    for word, count in wordDict.items():\n",
    "        tfDict[word] = count/float(wordscount)\n",
    "    return tfDict"
   ]
  },
  {
   "cell_type": "code",
   "execution_count": 44,
   "metadata": {},
   "outputs": [
    {
     "name": "stdout",
     "output_type": "stream",
     "text": [
      "0.1111111111111111\n",
      "0.11764705882352941\n"
     ]
    }
   ],
   "source": [
    "tfDoc1 = tf(wordsDictDoc1,doc1.split())\n",
    "print(tfDoc1['Ronaldo'])\n",
    "tfDoc2 = tf(wordsDictDoc2,doc2.split())\n",
    "print(tfDoc2['Earth'])"
   ]
  },
  {
   "cell_type": "code",
   "execution_count": 77,
   "metadata": {},
   "outputs": [],
   "source": [
    "import math\n",
    "def idf(docList,words):\n",
    "    idfDict = {}\n",
    "    N = len(docList)\n",
    "    idfDict = dict.fromkeys(words, 0)\n",
    "    for doc in docList:\n",
    "        for word, val in doc.items():\n",
    "            if val > 0:\n",
    "                idfDict[word] += 1\n",
    "    \n",
    "    for word, val in idfDict.items():\n",
    "        idfDict[word] = math.log10(N / float(val))\n",
    "    print(idfs)    \n",
    "    return idfDict"
   ]
  },
  {
   "cell_type": "code",
   "execution_count": 78,
   "metadata": {},
   "outputs": [
    {
     "name": "stdout",
     "output_type": "stream",
     "text": [
      "{'The': 0.0, '12,756': 0.3010299956639812, 'to': 0.3010299956639812, 'km.': 0.3010299956639812, 'of': 0.0, 'His': 0.3010299956639812, 'ago.': 0.3010299956639812, 'billion': 0.3010299956639812, 'taken': 0.3010299956639812, 'about': 0.3010299956639812, 'soccer': 0.3010299956639812, 'He': 0.3010299956639812, 'very': 0.0, 'name': 0.3010299956639812, 'close': 0.3010299956639812, 'at': 0.3010299956639812, 'a': 0.0, 'Hollywood': 0.3010299956639812, 'actor.': 0.3010299956639812, 'age.': 0.3010299956639812, 'sphere.': 0.3010299956639812, 'Earth': 0.3010299956639812, 'started': 0.3010299956639812, 'former': 0.3010299956639812, 'from': 0.3010299956639812, 'young': 0.3010299956639812, 'the': 0.3010299956639812, 'Aveiro.': 0.3010299956639812, 'born': 0.3010299956639812, 'Portugal.': 0.3010299956639812, 'Fundal.': 0.3010299956639812, 'Ronaldo': 0.3010299956639812, 'Santos': 0.3010299956639812, 'axis.': 0.3010299956639812, 'in': 0.3010299956639812, 'rotates': 0.3010299956639812, 'years': 0.3010299956639812, 'Dos': 0.3010299956639812, 'was': 0.0, 'its': 0.3010299956639812, 'formed': 0.3010299956639812, '4.7': 0.3010299956639812, 'shape': 0.3010299956639812, 'full': 0.3010299956639812, 'equatorial': 0.3010299956639812, 'Cristiano': 0.3010299956639812, 'playing': 0.3010299956639812, 'is': 0.0, 'diameter': 0.3010299956639812, 'on': 0.3010299956639812, 'that': 0.3010299956639812}\n"
     ]
    }
   ],
   "source": [
    "idfs = idf([wordsDictDoc1,wordsDictDoc2],words)"
   ]
  },
  {
   "cell_type": "code",
   "execution_count": 82,
   "metadata": {},
   "outputs": [
    {
     "name": "stdout",
     "output_type": "stream",
     "text": [
      "0.3010299956639812\n",
      "0.0\n"
     ]
    }
   ],
   "source": [
    "print(idfs['Ronaldo'])\n",
    "print(idfs['is'])"
   ]
  },
  {
   "cell_type": "code",
   "execution_count": 85,
   "metadata": {},
   "outputs": [
    {
     "data": {
      "text/html": [
       "<div>\n",
       "<style scoped>\n",
       "    .dataframe tbody tr th:only-of-type {\n",
       "        vertical-align: middle;\n",
       "    }\n",
       "\n",
       "    .dataframe tbody tr th {\n",
       "        vertical-align: top;\n",
       "    }\n",
       "\n",
       "    .dataframe thead th {\n",
       "        text-align: right;\n",
       "    }\n",
       "</style>\n",
       "<table border=\"1\" class=\"dataframe\">\n",
       "  <thead>\n",
       "    <tr style=\"text-align: right;\">\n",
       "      <th></th>\n",
       "      <th>Aveiro.</th>\n",
       "      <th>Cristiano</th>\n",
       "      <th>Dos</th>\n",
       "      <th>Fundal.</th>\n",
       "      <th>He</th>\n",
       "      <th>His</th>\n",
       "      <th>Hollywood</th>\n",
       "      <th>Portugal.</th>\n",
       "      <th>Ronaldo</th>\n",
       "      <th>Santos</th>\n",
       "      <th>...</th>\n",
       "      <th>name</th>\n",
       "      <th>of</th>\n",
       "      <th>playing</th>\n",
       "      <th>soccer</th>\n",
       "      <th>started</th>\n",
       "      <th>taken</th>\n",
       "      <th>the</th>\n",
       "      <th>very</th>\n",
       "      <th>was</th>\n",
       "      <th>young</th>\n",
       "    </tr>\n",
       "  </thead>\n",
       "  <tbody>\n",
       "    <tr>\n",
       "      <th>0</th>\n",
       "      <td>0.00669</td>\n",
       "      <td>0.026758</td>\n",
       "      <td>0.00669</td>\n",
       "      <td>0.00669</td>\n",
       "      <td>0.00669</td>\n",
       "      <td>0.00669</td>\n",
       "      <td>0.00669</td>\n",
       "      <td>0.00669</td>\n",
       "      <td>0.033448</td>\n",
       "      <td>0.00669</td>\n",
       "      <td>...</td>\n",
       "      <td>0.020069</td>\n",
       "      <td>0.0</td>\n",
       "      <td>0.00669</td>\n",
       "      <td>0.00669</td>\n",
       "      <td>0.00669</td>\n",
       "      <td>0.00669</td>\n",
       "      <td>0.00669</td>\n",
       "      <td>0.0</td>\n",
       "      <td>0.0</td>\n",
       "      <td>0.00669</td>\n",
       "    </tr>\n",
       "    <tr>\n",
       "      <th>1</th>\n",
       "      <td>0.00669</td>\n",
       "      <td>0.026758</td>\n",
       "      <td>0.00669</td>\n",
       "      <td>0.00669</td>\n",
       "      <td>0.00669</td>\n",
       "      <td>0.00669</td>\n",
       "      <td>0.00669</td>\n",
       "      <td>0.00669</td>\n",
       "      <td>0.033448</td>\n",
       "      <td>0.00669</td>\n",
       "      <td>...</td>\n",
       "      <td>0.020069</td>\n",
       "      <td>0.0</td>\n",
       "      <td>0.00669</td>\n",
       "      <td>0.00669</td>\n",
       "      <td>0.00669</td>\n",
       "      <td>0.00669</td>\n",
       "      <td>0.00669</td>\n",
       "      <td>0.0</td>\n",
       "      <td>0.0</td>\n",
       "      <td>0.00669</td>\n",
       "    </tr>\n",
       "  </tbody>\n",
       "</table>\n",
       "<p>2 rows × 31 columns</p>\n",
       "</div>"
      ],
      "text/plain": [
       "   Aveiro.  Cristiano      Dos  Fundal.       He      His  Hollywood  \\\n",
       "0  0.00669   0.026758  0.00669  0.00669  0.00669  0.00669    0.00669   \n",
       "1  0.00669   0.026758  0.00669  0.00669  0.00669  0.00669    0.00669   \n",
       "\n",
       "   Portugal.   Ronaldo   Santos   ...         name   of  playing   soccer  \\\n",
       "0    0.00669  0.033448  0.00669   ...     0.020069  0.0  0.00669  0.00669   \n",
       "1    0.00669  0.033448  0.00669   ...     0.020069  0.0  0.00669  0.00669   \n",
       "\n",
       "   started    taken      the  very  was    young  \n",
       "0  0.00669  0.00669  0.00669   0.0  0.0  0.00669  \n",
       "1  0.00669  0.00669  0.00669   0.0  0.0  0.00669  \n",
       "\n",
       "[2 rows x 31 columns]"
      ]
     },
     "execution_count": 85,
     "metadata": {},
     "output_type": "execute_result"
    }
   ],
   "source": [
    "tfidfDoc1 = tfidf(tfDoc1, idfs)\n",
    "tfidfDoc2 = tfidf(tfDoc2, idfs)\n",
    "pd.DataFrame([tfidfDoc1, tfidfDoc1])"
   ]
  },
  {
   "cell_type": "code",
   "execution_count": 84,
   "metadata": {},
   "outputs": [],
   "source": [
    "def tfidf(tfDoc, idfs):\n",
    "    tfidf = {}\n",
    "    for word, val in tfDoc.items():\n",
    "        tfidf[word] = val*idfs[word]\n",
    "    return tfidf"
   ]
  },
  {
   "cell_type": "code",
   "execution_count": 92,
   "metadata": {},
   "outputs": [
    {
     "name": "stdout",
     "output_type": "stream",
     "text": [
      "Importance of word 'Ronaldo' in Doc1  0.03344777729599791\n",
      "Importance of word 'is' in Doc1 0.0\n"
     ]
    }
   ],
   "source": [
    "print(\"Importance of word 'Ronaldo' in Doc1 \",tfidfDoc1[\"Ronaldo\"])\n",
    "print(\"Importance of word 'is' in Doc1\",tfidfDoc1[\"is\"])"
   ]
  },
  {
   "cell_type": "code",
   "execution_count": 93,
   "metadata": {},
   "outputs": [
    {
     "name": "stdout",
     "output_type": "stream",
     "text": [
      "Importance of word 'Earth' in Doc2  0.0354152936075272\n",
      "Importance of word 'The' in Doc2  0.0\n"
     ]
    }
   ],
   "source": [
    "print(\"Importance of word 'Earth' in Doc2 \",tfidfDoc2[\"Earth\"])\n",
    "print(\"Importance of word 'The' in Doc2 \",tfidfDoc2[\"The\"])"
   ]
  },
  {
   "cell_type": "code",
   "execution_count": 124,
   "metadata": {},
   "outputs": [
    {
     "name": "stdout",
     "output_type": "stream",
     "text": [
      "         12       756     about     actor       age       ago        at  \\\n",
      "0  0.000000  0.000000  0.000000  0.105351  0.105351  0.000000  0.105351   \n",
      "1  0.141928  0.141928  0.283856  0.000000  0.000000  0.141928  0.000000   \n",
      "\n",
      "     aveiro      axis   billion    ...       sphere   started     taken  \\\n",
      "0  0.105351  0.000000  0.000000    ...     0.000000  0.105351  0.105351   \n",
      "1  0.000000  0.141928  0.141928    ...     0.141928  0.000000  0.000000   \n",
      "\n",
      "       that       the        to      very       was     years     young  \n",
      "0  0.000000  0.149916  0.000000  0.074958  0.224874  0.000000  0.105351  \n",
      "1  0.141928  0.403932  0.141928  0.100983  0.100983  0.141928  0.000000  \n",
      "\n",
      "[2 rows x 49 columns]\n"
     ]
    }
   ],
   "source": [
    "from sklearn.feature_extraction.text import TfidfVectorizer\n",
    "corpus = [doc1,doc2]\n",
    "obj = TfidfVectorizer()\n",
    "\n",
    "X = obj.fit_transform([doc1,doc2])\n",
    "df = pd.DataFrame(X.toarray())\n",
    "df.columns = obj.get_feature_names()\n",
    "print(df)"
   ]
  },
  {
   "cell_type": "code",
   "execution_count": null,
   "metadata": {},
   "outputs": [],
   "source": [
    "\n",
    "                   "
   ]
  }
 ],
 "metadata": {
  "kernelspec": {
   "display_name": "Python 3",
   "language": "python",
   "name": "python3"
  },
  "language_info": {
   "codemirror_mode": {
    "name": "ipython",
    "version": 3
   },
   "file_extension": ".py",
   "mimetype": "text/x-python",
   "name": "python",
   "nbconvert_exporter": "python",
   "pygments_lexer": "ipython3",
   "version": "3.5.4"
  }
 },
 "nbformat": 4,
 "nbformat_minor": 2
}
