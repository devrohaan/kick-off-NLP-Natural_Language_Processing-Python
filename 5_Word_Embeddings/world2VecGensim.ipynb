{
 "cells": [
  {
   "cell_type": "markdown",
   "metadata": {},
   "source": [
    "*Word2Vec and GloVe are the two popular models to create word embedding of a text. These models takes a text corpus as input and produces the word vectors as output. Word2Vec model is composed of preprocessing module, a shallow neural network model called Continuous Bag of Words and another shallow neural network model called skip-gram. These models are widely used for all other nlp problems. It first constructs a vocabulary from the training corpus and then learns word embedding representations. Following code using gensim package prepares the word embedding as the vectors. They can be used as feature vectors for ML model, used to measure text similarity using cosine similarity techniques, words clustering and text classification techniques.*"
   ]
  },
  {
   "cell_type": "code",
   "execution_count": 2,
   "metadata": {},
   "outputs": [],
   "source": [
    "import pickle\n",
    "from gensim.models import Word2Vec"
   ]
  },
  {
   "cell_type": "code",
   "execution_count": 3,
   "metadata": {},
   "outputs": [
    {
     "name": "stdout",
     "output_type": "stream",
     "text": [
      "['laughed', 'pointed', 'know', 'say', 'summoned', 'evening', 'came', 'lowly', 'happy', 'huzoor', 'saw', 'gave', 'bowing', 'knows', 'name', 'even', 'way', 'boy', 'court', 'hungry', 'escape', 'found', 'akbar', 'goes', 'lost', 'said', 'spoke', 'tell', 'behind', 'soonmahesh', 'got', 'hindustaan', 'junction', 'travel', 'along', 'talking', 'coming', 'hunter', 'headed', 'three', 'went', 'didnt', 'india', 'road', 'replied', 'right', 'studies', 'met', 'king', 'see', 'go', 'loved', 'word', 'fearless', 'goat', 'need', 'day', 'silent', 'mahesh', 'last', 'left', 'thinking', 'could', 'like', 'asked', 'better', 'emperor', 'going', 'das', 'future', 'others', 'capital', 'else', 'courtiers', 'well', 'anywhere', 'recognize', 'get', 'come', 'became', 'towards', 'later', 'time', 'people', 'fell', 'young', 'jokeeverybody', 'thirsty', 'took', 'smiled', 'mean', 'hunting', 'hey', 'decide', 'everybody', 'immediately', 'reach', 'fast', 'rider', 'roads', 'birbal', 'agra', 'ring', 'move']\n"
     ]
    }
   ],
   "source": [
    "dataset = list()\n",
    "with open('/Users/Rohan/Desktop/3rdAug/NLP/data/NoiseFreeWordList.pkl', 'rb') as handle:\n",
    "    dataset = pickle.load(handle)\n",
    "            \n",
    "print(dataset[0])"
   ]
  },
  {
   "cell_type": "code",
   "execution_count": 11,
   "metadata": {},
   "outputs": [],
   "source": [
    "model = Word2Vec(\n",
    "        dataset,\n",
    "        size=150,\n",
    "        window=10,\n",
    "        min_count=0,\n",
    "        workers=10)"
   ]
  },
  {
   "cell_type": "markdown",
   "metadata": {},
   "source": [
    "## Params:\n",
    "\n",
    "- size (int, optional) – Dimensionality of the word vectors.\n",
    "- window (int, optional) – Maximum distance between the current and predicted word within a sentence.\n",
    "- min_count (int, optional) – Ignores all words with total frequency lower than this.\n",
    "- workers (int, optional) – Use these many worker threads to train the model (=faster training with multicore machines)."
   ]
  },
  {
   "cell_type": "code",
   "execution_count": 12,
   "metadata": {},
   "outputs": [],
   "source": [
    "model.save(\"/Users/Rohan/Desktop/3rdAug/NLP/data/Akbar_Birbal_word2vec.model\")\n",
    "#model = Word2Vec.load(\"/Users/Rohan/Desktop/3rdAug/NLP/data/Akbar_Birbal_word2vec.model\")\n"
   ]
  },
  {
   "cell_type": "code",
   "execution_count": 13,
   "metadata": {},
   "outputs": [
    {
     "name": "stdout",
     "output_type": "stream",
     "text": [
      "0.12317484\n"
     ]
    },
    {
     "name": "stderr",
     "output_type": "stream",
     "text": [
      "/Users/Rohan/Documents/Conda/anaconda3/envs/ChatbotVE/lib/python3.5/site-packages/ipykernel_launcher.py:1: DeprecationWarning: Call to deprecated `similarity` (Method will be removed in 4.0.0, use self.wv.similarity() instead).\n",
      "  \"\"\"Entry point for launching an IPython kernel.\n",
      "/Users/Rohan/Documents/Conda/anaconda3/envs/ChatbotVE/lib/python3.5/site-packages/gensim/matutils.py:737: FutureWarning: Conversion of the second argument of issubdtype from `int` to `np.signedinteger` is deprecated. In future, it will be treated as `np.int64 == np.dtype(int).type`.\n",
      "  if np.issubdtype(vec.dtype, np.int):\n"
     ]
    }
   ],
   "source": [
    "print(model.similarity('akbar', 'birbal'))"
   ]
  },
  {
   "cell_type": "code",
   "execution_count": 16,
   "metadata": {},
   "outputs": [
    {
     "name": "stdout",
     "output_type": "stream",
     "text": [
      "0.12638979\n"
     ]
    },
    {
     "name": "stderr",
     "output_type": "stream",
     "text": [
      "/Users/Rohan/Documents/Conda/anaconda3/envs/ChatbotVE/lib/python3.5/site-packages/ipykernel_launcher.py:1: DeprecationWarning: Call to deprecated `similarity` (Method will be removed in 4.0.0, use self.wv.similarity() instead).\n",
      "  \"\"\"Entry point for launching an IPython kernel.\n",
      "/Users/Rohan/Documents/Conda/anaconda3/envs/ChatbotVE/lib/python3.5/site-packages/gensim/matutils.py:737: FutureWarning: Conversion of the second argument of issubdtype from `int` to `np.signedinteger` is deprecated. In future, it will be treated as `np.int64 == np.dtype(int).type`.\n",
      "  if np.issubdtype(vec.dtype, np.int):\n"
     ]
    }
   ],
   "source": [
    "print(model.similarity('akbar', 'king'))"
   ]
  },
  {
   "cell_type": "code",
   "execution_count": 17,
   "metadata": {},
   "outputs": [
    {
     "name": "stdout",
     "output_type": "stream",
     "text": [
      "[('ample', 0.0005299454), ('identity', 0.0005299451), ('difficult', 0.00052994495), ('changed', 0.0005299448), ('found', 0.0005299448), ('goes', 0.0005299448), ('straight', 0.00052994466), ('hima', 0.00052994466), ('ones', 0.0005299445), ('lie', 0.00052994443)]\n"
     ]
    }
   ],
   "source": [
    "print(model.predict_output_word(['akbar'], topn=10))"
   ]
  },
  {
   "cell_type": "code",
   "execution_count": 18,
   "metadata": {},
   "outputs": [
    {
     "name": "stdout",
     "output_type": "stream",
     "text": [
      "[('kept', 0.0005299478), ('die', 0.00052994536), ('ever', 0.00052994466), ('palm', 0.0005299446), ('noblest', 0.0005299445), ('stays', 0.0005299445), ('angered', 0.0005299444), ('stomach', 0.0005299444), ('identity', 0.0005299443), ('addressed', 0.00052994426)]\n"
     ]
    }
   ],
   "source": [
    "print(model.predict_output_word(['birbal'], topn=10))"
   ]
  },
  {
   "cell_type": "markdown",
   "metadata": {},
   "source": [
    "### For those who are struggling with  ...\n",
    "\n",
    "## GoogleNews-vectors-negative300.bin \n",
    "\n",
    "<span style=\"color:red\">\"The GoogleNews vector set is just word-vectors – not a full Word2Vec model. It doesn't have the full model internal weights that would be necessary for things like performing additional incremental training/predictions. That's why it should generally be loaded as a read-only KeyedVectors with limited functionality.\"</span>\n",
    "\n",
    "<span style=\"color:red\">To have a working Word2Vec model with full functionality, you'd need to train it yourself, or load a true full model (which would be in a different gensim-native disk format, and be loaded with the load() method). Google hasn't made the full model that created the GoogleNews vectors available.</span>\n"
   ]
  },
  {
   "cell_type": "code",
   "execution_count": 37,
   "metadata": {},
   "outputs": [],
   "source": [
    "from matplotlib import pyplot\n",
    "from gensim.models import Word2Vec\n",
    "from sklearn.decomposition import PCA\n",
    "\n",
    "## To be continued ..."
   ]
  },
  {
   "cell_type": "code",
   "execution_count": null,
   "metadata": {},
   "outputs": [],
   "source": []
  }
 ],
 "metadata": {
  "kernelspec": {
   "display_name": "Python 3",
   "language": "python",
   "name": "python3"
  },
  "language_info": {
   "codemirror_mode": {
    "name": "ipython",
    "version": 3
   },
   "file_extension": ".py",
   "mimetype": "text/x-python",
   "name": "python",
   "nbconvert_exporter": "python",
   "pygments_lexer": "ipython3",
   "version": "3.5.4"
  }
 },
 "nbformat": 4,
 "nbformat_minor": 2
}
